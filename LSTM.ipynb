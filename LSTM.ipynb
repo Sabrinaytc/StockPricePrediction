{
 "cells": [
  {
   "cell_type": "code",
   "execution_count": 1,
   "metadata": {},
   "outputs": [],
   "source": [
    "import yfinance as yf\n",
    "import os\n",
    "import pandas as pd\n",
    "import numpy as np\n",
    "import matplotlib.pyplot as plt\n",
    "\n",
    "import torch\n",
    "import torch.nn as nn"
   ]
  },
  {
   "cell_type": "code",
   "execution_count": 2,
   "metadata": {},
   "outputs": [],
   "source": [
    "# # Get all the S&P500 tickers\n",
    "# path = './Data/S&P500/'\n",
    "# dir_path = [name[:-4] for name in os.listdir(path)]\n",
    "# print(dir_path)"
   ]
  },
  {
   "cell_type": "code",
   "execution_count": 3,
   "metadata": {},
   "outputs": [
    {
     "name": "stderr",
     "output_type": "stream",
     "text": [
      "/Users/sabrinachiang/miniforge3/envs/StockPrice/lib/python3.10/site-packages/yfinance/utils.py:775: FutureWarning: The 'unit' keyword in TimedeltaIndex construction is deprecated and will be removed in a future version. Use pd.to_timedelta instead.\n",
      "  df.index += _pd.TimedeltaIndex(dst_error_hours, 'h')\n"
     ]
    },
    {
     "data": {
      "text/html": [
       "<div>\n",
       "<style scoped>\n",
       "    .dataframe tbody tr th:only-of-type {\n",
       "        vertical-align: middle;\n",
       "    }\n",
       "\n",
       "    .dataframe tbody tr th {\n",
       "        vertical-align: top;\n",
       "    }\n",
       "\n",
       "    .dataframe thead th {\n",
       "        text-align: right;\n",
       "    }\n",
       "</style>\n",
       "<table border=\"1\" class=\"dataframe\">\n",
       "  <thead>\n",
       "    <tr style=\"text-align: right;\">\n",
       "      <th></th>\n",
       "      <th>Date</th>\n",
       "      <th>Open</th>\n",
       "      <th>High</th>\n",
       "      <th>Low</th>\n",
       "      <th>Close</th>\n",
       "      <th>Volume</th>\n",
       "      <th>Dividends</th>\n",
       "      <th>Stock Splits</th>\n",
       "    </tr>\n",
       "  </thead>\n",
       "  <tbody>\n",
       "    <tr>\n",
       "      <th>0</th>\n",
       "      <td>1980-12-12 00:00:00-05:00</td>\n",
       "      <td>0.099319</td>\n",
       "      <td>0.099750</td>\n",
       "      <td>0.099319</td>\n",
       "      <td>0.099319</td>\n",
       "      <td>469033600</td>\n",
       "      <td>0.0</td>\n",
       "      <td>0.0</td>\n",
       "    </tr>\n",
       "    <tr>\n",
       "      <th>1</th>\n",
       "      <td>1980-12-15 00:00:00-05:00</td>\n",
       "      <td>0.094569</td>\n",
       "      <td>0.094569</td>\n",
       "      <td>0.094137</td>\n",
       "      <td>0.094137</td>\n",
       "      <td>175884800</td>\n",
       "      <td>0.0</td>\n",
       "      <td>0.0</td>\n",
       "    </tr>\n",
       "    <tr>\n",
       "      <th>2</th>\n",
       "      <td>1980-12-16 00:00:00-05:00</td>\n",
       "      <td>0.087659</td>\n",
       "      <td>0.087659</td>\n",
       "      <td>0.087228</td>\n",
       "      <td>0.087228</td>\n",
       "      <td>105728000</td>\n",
       "      <td>0.0</td>\n",
       "      <td>0.0</td>\n",
       "    </tr>\n",
       "    <tr>\n",
       "      <th>3</th>\n",
       "      <td>1980-12-17 00:00:00-05:00</td>\n",
       "      <td>0.089387</td>\n",
       "      <td>0.089818</td>\n",
       "      <td>0.089387</td>\n",
       "      <td>0.089387</td>\n",
       "      <td>86441600</td>\n",
       "      <td>0.0</td>\n",
       "      <td>0.0</td>\n",
       "    </tr>\n",
       "    <tr>\n",
       "      <th>4</th>\n",
       "      <td>1980-12-18 00:00:00-05:00</td>\n",
       "      <td>0.091978</td>\n",
       "      <td>0.092410</td>\n",
       "      <td>0.091978</td>\n",
       "      <td>0.091978</td>\n",
       "      <td>73449600</td>\n",
       "      <td>0.0</td>\n",
       "      <td>0.0</td>\n",
       "    </tr>\n",
       "    <tr>\n",
       "      <th>...</th>\n",
       "      <td>...</td>\n",
       "      <td>...</td>\n",
       "      <td>...</td>\n",
       "      <td>...</td>\n",
       "      <td>...</td>\n",
       "      <td>...</td>\n",
       "      <td>...</td>\n",
       "      <td>...</td>\n",
       "    </tr>\n",
       "    <tr>\n",
       "      <th>10873</th>\n",
       "      <td>2024-01-31 00:00:00-05:00</td>\n",
       "      <td>187.039993</td>\n",
       "      <td>187.100006</td>\n",
       "      <td>184.350006</td>\n",
       "      <td>184.399994</td>\n",
       "      <td>55467800</td>\n",
       "      <td>0.0</td>\n",
       "      <td>0.0</td>\n",
       "    </tr>\n",
       "    <tr>\n",
       "      <th>10874</th>\n",
       "      <td>2024-02-01 00:00:00-05:00</td>\n",
       "      <td>183.990005</td>\n",
       "      <td>186.949997</td>\n",
       "      <td>183.820007</td>\n",
       "      <td>186.860001</td>\n",
       "      <td>64885400</td>\n",
       "      <td>0.0</td>\n",
       "      <td>0.0</td>\n",
       "    </tr>\n",
       "    <tr>\n",
       "      <th>10875</th>\n",
       "      <td>2024-02-02 00:00:00-05:00</td>\n",
       "      <td>179.860001</td>\n",
       "      <td>187.330002</td>\n",
       "      <td>179.250000</td>\n",
       "      <td>185.850006</td>\n",
       "      <td>102518000</td>\n",
       "      <td>0.0</td>\n",
       "      <td>0.0</td>\n",
       "    </tr>\n",
       "    <tr>\n",
       "      <th>10876</th>\n",
       "      <td>2024-02-05 00:00:00-05:00</td>\n",
       "      <td>188.149994</td>\n",
       "      <td>189.250000</td>\n",
       "      <td>185.839996</td>\n",
       "      <td>187.679993</td>\n",
       "      <td>69668800</td>\n",
       "      <td>0.0</td>\n",
       "      <td>0.0</td>\n",
       "    </tr>\n",
       "    <tr>\n",
       "      <th>10877</th>\n",
       "      <td>2024-02-06 00:00:00-05:00</td>\n",
       "      <td>186.860001</td>\n",
       "      <td>189.309998</td>\n",
       "      <td>186.769501</td>\n",
       "      <td>189.300003</td>\n",
       "      <td>43225255</td>\n",
       "      <td>0.0</td>\n",
       "      <td>0.0</td>\n",
       "    </tr>\n",
       "  </tbody>\n",
       "</table>\n",
       "<p>10878 rows × 8 columns</p>\n",
       "</div>"
      ],
      "text/plain": [
       "                           Date        Open        High         Low  \\\n",
       "0     1980-12-12 00:00:00-05:00    0.099319    0.099750    0.099319   \n",
       "1     1980-12-15 00:00:00-05:00    0.094569    0.094569    0.094137   \n",
       "2     1980-12-16 00:00:00-05:00    0.087659    0.087659    0.087228   \n",
       "3     1980-12-17 00:00:00-05:00    0.089387    0.089818    0.089387   \n",
       "4     1980-12-18 00:00:00-05:00    0.091978    0.092410    0.091978   \n",
       "...                         ...         ...         ...         ...   \n",
       "10873 2024-01-31 00:00:00-05:00  187.039993  187.100006  184.350006   \n",
       "10874 2024-02-01 00:00:00-05:00  183.990005  186.949997  183.820007   \n",
       "10875 2024-02-02 00:00:00-05:00  179.860001  187.330002  179.250000   \n",
       "10876 2024-02-05 00:00:00-05:00  188.149994  189.250000  185.839996   \n",
       "10877 2024-02-06 00:00:00-05:00  186.860001  189.309998  186.769501   \n",
       "\n",
       "            Close     Volume  Dividends  Stock Splits  \n",
       "0        0.099319  469033600        0.0           0.0  \n",
       "1        0.094137  175884800        0.0           0.0  \n",
       "2        0.087228  105728000        0.0           0.0  \n",
       "3        0.089387   86441600        0.0           0.0  \n",
       "4        0.091978   73449600        0.0           0.0  \n",
       "...           ...        ...        ...           ...  \n",
       "10873  184.399994   55467800        0.0           0.0  \n",
       "10874  186.860001   64885400        0.0           0.0  \n",
       "10875  185.850006  102518000        0.0           0.0  \n",
       "10876  187.679993   69668800        0.0           0.0  \n",
       "10877  189.300003   43225255        0.0           0.0  \n",
       "\n",
       "[10878 rows x 8 columns]"
      ]
     },
     "execution_count": 3,
     "metadata": {},
     "output_type": "execute_result"
    }
   ],
   "source": [
    "# Get the history price MAX\n",
    "GetInfo = yf.Ticker(\"AAPL\")\n",
    "\n",
    "data = GetInfo.history(period=\"max\").reset_index()\n",
    "\n",
    "data"
   ]
  },
  {
   "cell_type": "code",
   "execution_count": 4,
   "metadata": {},
   "outputs": [
    {
     "data": {
      "text/html": [
       "<div>\n",
       "<style scoped>\n",
       "    .dataframe tbody tr th:only-of-type {\n",
       "        vertical-align: middle;\n",
       "    }\n",
       "\n",
       "    .dataframe tbody tr th {\n",
       "        vertical-align: top;\n",
       "    }\n",
       "\n",
       "    .dataframe thead th {\n",
       "        text-align: right;\n",
       "    }\n",
       "</style>\n",
       "<table border=\"1\" class=\"dataframe\">\n",
       "  <thead>\n",
       "    <tr style=\"text-align: right;\">\n",
       "      <th></th>\n",
       "      <th>Date</th>\n",
       "      <th>Close</th>\n",
       "    </tr>\n",
       "  </thead>\n",
       "  <tbody>\n",
       "    <tr>\n",
       "      <th>0</th>\n",
       "      <td>1980-12-12 00:00:00-05:00</td>\n",
       "      <td>0.099319</td>\n",
       "    </tr>\n",
       "    <tr>\n",
       "      <th>1</th>\n",
       "      <td>1980-12-15 00:00:00-05:00</td>\n",
       "      <td>0.094137</td>\n",
       "    </tr>\n",
       "    <tr>\n",
       "      <th>2</th>\n",
       "      <td>1980-12-16 00:00:00-05:00</td>\n",
       "      <td>0.087228</td>\n",
       "    </tr>\n",
       "    <tr>\n",
       "      <th>3</th>\n",
       "      <td>1980-12-17 00:00:00-05:00</td>\n",
       "      <td>0.089387</td>\n",
       "    </tr>\n",
       "    <tr>\n",
       "      <th>4</th>\n",
       "      <td>1980-12-18 00:00:00-05:00</td>\n",
       "      <td>0.091978</td>\n",
       "    </tr>\n",
       "    <tr>\n",
       "      <th>...</th>\n",
       "      <td>...</td>\n",
       "      <td>...</td>\n",
       "    </tr>\n",
       "    <tr>\n",
       "      <th>10873</th>\n",
       "      <td>2024-01-31 00:00:00-05:00</td>\n",
       "      <td>184.399994</td>\n",
       "    </tr>\n",
       "    <tr>\n",
       "      <th>10874</th>\n",
       "      <td>2024-02-01 00:00:00-05:00</td>\n",
       "      <td>186.860001</td>\n",
       "    </tr>\n",
       "    <tr>\n",
       "      <th>10875</th>\n",
       "      <td>2024-02-02 00:00:00-05:00</td>\n",
       "      <td>185.850006</td>\n",
       "    </tr>\n",
       "    <tr>\n",
       "      <th>10876</th>\n",
       "      <td>2024-02-05 00:00:00-05:00</td>\n",
       "      <td>187.679993</td>\n",
       "    </tr>\n",
       "    <tr>\n",
       "      <th>10877</th>\n",
       "      <td>2024-02-06 00:00:00-05:00</td>\n",
       "      <td>189.300003</td>\n",
       "    </tr>\n",
       "  </tbody>\n",
       "</table>\n",
       "<p>10878 rows × 2 columns</p>\n",
       "</div>"
      ],
      "text/plain": [
       "                           Date       Close\n",
       "0     1980-12-12 00:00:00-05:00    0.099319\n",
       "1     1980-12-15 00:00:00-05:00    0.094137\n",
       "2     1980-12-16 00:00:00-05:00    0.087228\n",
       "3     1980-12-17 00:00:00-05:00    0.089387\n",
       "4     1980-12-18 00:00:00-05:00    0.091978\n",
       "...                         ...         ...\n",
       "10873 2024-01-31 00:00:00-05:00  184.399994\n",
       "10874 2024-02-01 00:00:00-05:00  186.860001\n",
       "10875 2024-02-02 00:00:00-05:00  185.850006\n",
       "10876 2024-02-05 00:00:00-05:00  187.679993\n",
       "10877 2024-02-06 00:00:00-05:00  189.300003\n",
       "\n",
       "[10878 rows x 2 columns]"
      ]
     },
     "execution_count": 4,
     "metadata": {},
     "output_type": "execute_result"
    }
   ],
   "source": [
    "data = data[['Date', 'Close']]\n",
    "data"
   ]
  },
  {
   "cell_type": "code",
   "execution_count": 5,
   "metadata": {},
   "outputs": [
    {
     "data": {
      "text/plain": [
       "'cpu'"
      ]
     },
     "execution_count": 5,
     "metadata": {},
     "output_type": "execute_result"
    }
   ],
   "source": [
    "device = 'cuda:0' if torch.cuda.is_available() else 'cpu'\n",
    "device"
   ]
  },
  {
   "cell_type": "code",
   "execution_count": 6,
   "metadata": {},
   "outputs": [],
   "source": [
    "# Generate the \n",
    "from copy import deepcopy as dc\n",
    "\n",
    "def prepare_data(df, nsteps):\n",
    "    '''\n",
    "    for each day, we append n previous days \n",
    "    '''\n",
    "    df = dc(df)\n",
    "    df.set_index('Date', inplace = True)\n",
    "    \n",
    "    for i in range(1, nsteps + 1):\n",
    "        df[f'Close(t-{i})D'] = df['Close'].shift(i)\n",
    "        \n",
    "    df.dropna(inplace= True)\n",
    "    \n",
    "    return df"
   ]
  },
  {
   "cell_type": "code",
   "execution_count": 7,
   "metadata": {},
   "outputs": [
    {
     "data": {
      "text/html": [
       "<div>\n",
       "<style scoped>\n",
       "    .dataframe tbody tr th:only-of-type {\n",
       "        vertical-align: middle;\n",
       "    }\n",
       "\n",
       "    .dataframe tbody tr th {\n",
       "        vertical-align: top;\n",
       "    }\n",
       "\n",
       "    .dataframe thead th {\n",
       "        text-align: right;\n",
       "    }\n",
       "</style>\n",
       "<table border=\"1\" class=\"dataframe\">\n",
       "  <thead>\n",
       "    <tr style=\"text-align: right;\">\n",
       "      <th></th>\n",
       "      <th>Close</th>\n",
       "      <th>Close(t-1)D</th>\n",
       "      <th>Close(t-2)D</th>\n",
       "      <th>Close(t-3)D</th>\n",
       "      <th>Close(t-4)D</th>\n",
       "      <th>Close(t-5)D</th>\n",
       "      <th>Close(t-6)D</th>\n",
       "      <th>Close(t-7)D</th>\n",
       "    </tr>\n",
       "    <tr>\n",
       "      <th>Date</th>\n",
       "      <th></th>\n",
       "      <th></th>\n",
       "      <th></th>\n",
       "      <th></th>\n",
       "      <th></th>\n",
       "      <th></th>\n",
       "      <th></th>\n",
       "      <th></th>\n",
       "    </tr>\n",
       "  </thead>\n",
       "  <tbody>\n",
       "    <tr>\n",
       "      <th>1980-12-23 00:00:00-05:00</th>\n",
       "      <td>0.106660</td>\n",
       "      <td>0.102341</td>\n",
       "      <td>0.097592</td>\n",
       "      <td>0.091978</td>\n",
       "      <td>0.089387</td>\n",
       "      <td>0.087228</td>\n",
       "      <td>0.094137</td>\n",
       "      <td>0.099319</td>\n",
       "    </tr>\n",
       "    <tr>\n",
       "      <th>1980-12-24 00:00:00-05:00</th>\n",
       "      <td>0.112273</td>\n",
       "      <td>0.106660</td>\n",
       "      <td>0.102341</td>\n",
       "      <td>0.097592</td>\n",
       "      <td>0.091978</td>\n",
       "      <td>0.089387</td>\n",
       "      <td>0.087228</td>\n",
       "      <td>0.094137</td>\n",
       "    </tr>\n",
       "    <tr>\n",
       "      <th>1980-12-26 00:00:00-05:00</th>\n",
       "      <td>0.122637</td>\n",
       "      <td>0.112273</td>\n",
       "      <td>0.106660</td>\n",
       "      <td>0.102341</td>\n",
       "      <td>0.097592</td>\n",
       "      <td>0.091978</td>\n",
       "      <td>0.089387</td>\n",
       "      <td>0.087228</td>\n",
       "    </tr>\n",
       "    <tr>\n",
       "      <th>1980-12-29 00:00:00-05:00</th>\n",
       "      <td>0.124364</td>\n",
       "      <td>0.122637</td>\n",
       "      <td>0.112273</td>\n",
       "      <td>0.106660</td>\n",
       "      <td>0.102341</td>\n",
       "      <td>0.097592</td>\n",
       "      <td>0.091978</td>\n",
       "      <td>0.089387</td>\n",
       "    </tr>\n",
       "    <tr>\n",
       "      <th>1980-12-30 00:00:00-05:00</th>\n",
       "      <td>0.121342</td>\n",
       "      <td>0.124364</td>\n",
       "      <td>0.122637</td>\n",
       "      <td>0.112273</td>\n",
       "      <td>0.106660</td>\n",
       "      <td>0.102341</td>\n",
       "      <td>0.097592</td>\n",
       "      <td>0.091978</td>\n",
       "    </tr>\n",
       "    <tr>\n",
       "      <th>...</th>\n",
       "      <td>...</td>\n",
       "      <td>...</td>\n",
       "      <td>...</td>\n",
       "      <td>...</td>\n",
       "      <td>...</td>\n",
       "      <td>...</td>\n",
       "      <td>...</td>\n",
       "      <td>...</td>\n",
       "    </tr>\n",
       "    <tr>\n",
       "      <th>2024-01-31 00:00:00-05:00</th>\n",
       "      <td>184.399994</td>\n",
       "      <td>188.039993</td>\n",
       "      <td>191.729996</td>\n",
       "      <td>192.419998</td>\n",
       "      <td>194.169998</td>\n",
       "      <td>194.500000</td>\n",
       "      <td>195.179993</td>\n",
       "      <td>193.889999</td>\n",
       "    </tr>\n",
       "    <tr>\n",
       "      <th>2024-02-01 00:00:00-05:00</th>\n",
       "      <td>186.860001</td>\n",
       "      <td>184.399994</td>\n",
       "      <td>188.039993</td>\n",
       "      <td>191.729996</td>\n",
       "      <td>192.419998</td>\n",
       "      <td>194.169998</td>\n",
       "      <td>194.500000</td>\n",
       "      <td>195.179993</td>\n",
       "    </tr>\n",
       "    <tr>\n",
       "      <th>2024-02-02 00:00:00-05:00</th>\n",
       "      <td>185.850006</td>\n",
       "      <td>186.860001</td>\n",
       "      <td>184.399994</td>\n",
       "      <td>188.039993</td>\n",
       "      <td>191.729996</td>\n",
       "      <td>192.419998</td>\n",
       "      <td>194.169998</td>\n",
       "      <td>194.500000</td>\n",
       "    </tr>\n",
       "    <tr>\n",
       "      <th>2024-02-05 00:00:00-05:00</th>\n",
       "      <td>187.679993</td>\n",
       "      <td>185.850006</td>\n",
       "      <td>186.860001</td>\n",
       "      <td>184.399994</td>\n",
       "      <td>188.039993</td>\n",
       "      <td>191.729996</td>\n",
       "      <td>192.419998</td>\n",
       "      <td>194.169998</td>\n",
       "    </tr>\n",
       "    <tr>\n",
       "      <th>2024-02-06 00:00:00-05:00</th>\n",
       "      <td>189.300003</td>\n",
       "      <td>187.679993</td>\n",
       "      <td>185.850006</td>\n",
       "      <td>186.860001</td>\n",
       "      <td>184.399994</td>\n",
       "      <td>188.039993</td>\n",
       "      <td>191.729996</td>\n",
       "      <td>192.419998</td>\n",
       "    </tr>\n",
       "  </tbody>\n",
       "</table>\n",
       "<p>10871 rows × 8 columns</p>\n",
       "</div>"
      ],
      "text/plain": [
       "                                Close  Close(t-1)D  Close(t-2)D  Close(t-3)D  \\\n",
       "Date                                                                           \n",
       "1980-12-23 00:00:00-05:00    0.106660     0.102341     0.097592     0.091978   \n",
       "1980-12-24 00:00:00-05:00    0.112273     0.106660     0.102341     0.097592   \n",
       "1980-12-26 00:00:00-05:00    0.122637     0.112273     0.106660     0.102341   \n",
       "1980-12-29 00:00:00-05:00    0.124364     0.122637     0.112273     0.106660   \n",
       "1980-12-30 00:00:00-05:00    0.121342     0.124364     0.122637     0.112273   \n",
       "...                               ...          ...          ...          ...   \n",
       "2024-01-31 00:00:00-05:00  184.399994   188.039993   191.729996   192.419998   \n",
       "2024-02-01 00:00:00-05:00  186.860001   184.399994   188.039993   191.729996   \n",
       "2024-02-02 00:00:00-05:00  185.850006   186.860001   184.399994   188.039993   \n",
       "2024-02-05 00:00:00-05:00  187.679993   185.850006   186.860001   184.399994   \n",
       "2024-02-06 00:00:00-05:00  189.300003   187.679993   185.850006   186.860001   \n",
       "\n",
       "                           Close(t-4)D  Close(t-5)D  Close(t-6)D  Close(t-7)D  \n",
       "Date                                                                           \n",
       "1980-12-23 00:00:00-05:00     0.089387     0.087228     0.094137     0.099319  \n",
       "1980-12-24 00:00:00-05:00     0.091978     0.089387     0.087228     0.094137  \n",
       "1980-12-26 00:00:00-05:00     0.097592     0.091978     0.089387     0.087228  \n",
       "1980-12-29 00:00:00-05:00     0.102341     0.097592     0.091978     0.089387  \n",
       "1980-12-30 00:00:00-05:00     0.106660     0.102341     0.097592     0.091978  \n",
       "...                                ...          ...          ...          ...  \n",
       "2024-01-31 00:00:00-05:00   194.169998   194.500000   195.179993   193.889999  \n",
       "2024-02-01 00:00:00-05:00   192.419998   194.169998   194.500000   195.179993  \n",
       "2024-02-02 00:00:00-05:00   191.729996   192.419998   194.169998   194.500000  \n",
       "2024-02-05 00:00:00-05:00   188.039993   191.729996   192.419998   194.169998  \n",
       "2024-02-06 00:00:00-05:00   184.399994   188.039993   191.729996   192.419998  \n",
       "\n",
       "[10871 rows x 8 columns]"
      ]
     },
     "execution_count": 7,
     "metadata": {},
     "output_type": "execute_result"
    }
   ],
   "source": [
    "lookback = 7\n",
    "shift_df = prepare_data(data, lookback)\n",
    "\n",
    "shift_df"
   ]
  },
  {
   "cell_type": "code",
   "execution_count": 8,
   "metadata": {},
   "outputs": [
    {
     "data": {
      "text/plain": [
       "array([[1.06659964e-01, 1.02341227e-01, 9.75915194e-02, ...,\n",
       "        8.72276649e-02, 9.41371918e-02, 9.93186757e-02],\n",
       "       [1.12273306e-01, 1.06659964e-01, 1.02341227e-01, ...,\n",
       "        8.93866420e-02, 8.72276649e-02, 9.41371918e-02],\n",
       "       [1.22637063e-01, 1.12273306e-01, 1.06659964e-01, ...,\n",
       "        9.19781700e-02, 8.93866420e-02, 8.72276649e-02],\n",
       "       ...,\n",
       "       [1.85850006e+02, 1.86860001e+02, 1.84399994e+02, ...,\n",
       "        1.92419998e+02, 1.94169998e+02, 1.94500000e+02],\n",
       "       [1.87679993e+02, 1.85850006e+02, 1.86860001e+02, ...,\n",
       "        1.91729996e+02, 1.92419998e+02, 1.94169998e+02],\n",
       "       [1.89300003e+02, 1.87679993e+02, 1.85850006e+02, ...,\n",
       "        1.88039993e+02, 1.91729996e+02, 1.92419998e+02]])"
      ]
     },
     "execution_count": 8,
     "metadata": {},
     "output_type": "execute_result"
    }
   ],
   "source": [
    "shift_numpy = shift_df.to_numpy()\n",
    "shift_numpy"
   ]
  },
  {
   "cell_type": "code",
   "execution_count": 9,
   "metadata": {},
   "outputs": [
    {
     "data": {
      "text/plain": [
       "array([[-0.99930672, -0.99935033, -0.99939829, ..., -0.99950293,\n",
       "        -0.99943317, -0.99938085],\n",
       "       [-0.99925004, -0.99930672, -0.99935033, ..., -0.99948113,\n",
       "        -0.99950293, -0.99943317],\n",
       "       [-0.99914539, -0.99925004, -0.99930672, ..., -0.99945497,\n",
       "        -0.99948113, -0.99950293],\n",
       "       ...,\n",
       "       [ 0.87620669,  0.88640494,  0.86156542, ...,  0.94254612,\n",
       "         0.96021646,  0.9635486 ],\n",
       "       [ 0.89468468,  0.87620669,  0.88640494, ...,  0.93557893,\n",
       "         0.94254612,  0.96021646],\n",
       "       [ 0.91104247,  0.89468468,  0.87620669, ...,  0.89831973,\n",
       "         0.93557893,  0.94254612]])"
      ]
     },
     "execution_count": 9,
     "metadata": {},
     "output_type": "execute_result"
    }
   ],
   "source": [
    "# Need to scale our data first\n",
    "from sklearn.preprocessing import MinMaxScaler\n",
    "\n",
    "scaler = MinMaxScaler(feature_range=(-1,1))\n",
    "shift_numpy = scaler.fit_transform(shift_numpy)\n",
    "\n",
    "shift_numpy"
   ]
  },
  {
   "cell_type": "code",
   "execution_count": 10,
   "metadata": {},
   "outputs": [
    {
     "data": {
      "text/plain": [
       "((10871, 7), (10871,))"
      ]
     },
     "execution_count": 10,
     "metadata": {},
     "output_type": "execute_result"
    }
   ],
   "source": [
    "x = shift_numpy[:, 1:]\n",
    "y = shift_numpy[:, 0]\n",
    "\n",
    "x.shape, y.shape"
   ]
  },
  {
   "cell_type": "code",
   "execution_count": 11,
   "metadata": {},
   "outputs": [
    {
     "data": {
      "text/plain": [
       "array([[-0.99938085, -0.99943317, -0.99950293, ..., -0.99945497,\n",
       "        -0.99939829, -0.99935033],\n",
       "       [-0.99943317, -0.99950293, -0.99948113, ..., -0.99939829,\n",
       "        -0.99935033, -0.99930672],\n",
       "       [-0.99950293, -0.99948113, -0.99945497, ..., -0.99935033,\n",
       "        -0.99930672, -0.99925004],\n",
       "       ...,\n",
       "       [ 0.9635486 ,  0.96021646,  0.94254612, ...,  0.89831973,\n",
       "         0.86156542,  0.88640494],\n",
       "       [ 0.96021646,  0.94254612,  0.93557893, ...,  0.86156542,\n",
       "         0.88640494,  0.87620669],\n",
       "       [ 0.94254612,  0.93557893,  0.89831973, ...,  0.88640494,\n",
       "         0.87620669,  0.89468468]])"
      ]
     },
     "execution_count": 11,
     "metadata": {},
     "output_type": "execute_result"
    }
   ],
   "source": [
    "# reverses the x --> the array will be D-7, D-6, D-5, D-4, D-3, D-2, D-1\n",
    "x = dc(np.flip(x, axis=1))\n",
    "x"
   ]
  },
  {
   "cell_type": "code",
   "execution_count": 12,
   "metadata": {},
   "outputs": [
    {
     "data": {
      "text/plain": [
       "9783"
      ]
     },
     "execution_count": 12,
     "metadata": {},
     "output_type": "execute_result"
    }
   ],
   "source": [
    "# Split into train 90% and test 10%\n",
    " \n",
    "split_index = int(len(x)*0.90)\n",
    "\n",
    "split_index"
   ]
  },
  {
   "cell_type": "code",
   "execution_count": 13,
   "metadata": {},
   "outputs": [
    {
     "data": {
      "text/plain": [
       "((9783, 7), (1088, 7), (9783,), (1088,))"
      ]
     },
     "execution_count": 13,
     "metadata": {},
     "output_type": "execute_result"
    }
   ],
   "source": [
    "x_train = x[: split_index]\n",
    "x_test = x[split_index:]\n",
    "\n",
    "y_train = y[: split_index]\n",
    "y_test = y[split_index:]\n",
    "\n",
    "x_train.shape, x_test.shape, y_train.shape, y_test.shape"
   ]
  },
  {
   "cell_type": "code",
   "execution_count": 14,
   "metadata": {},
   "outputs": [
    {
     "data": {
      "text/plain": [
       "((9783, 7, 1), (1088, 7, 1), (9783, 1), (1088, 1))"
      ]
     },
     "execution_count": 14,
     "metadata": {},
     "output_type": "execute_result"
    }
   ],
   "source": [
    "# Add another dimension for torch LSTM\n",
    "\n",
    "x_train = x_train.reshape(x_train.shape[0], -1, 1)\n",
    "x_test = x_test.reshape(x_test.shape[0], -1, 1)\n",
    "\n",
    "y_train = y_train.reshape((-1, 1))\n",
    "y_test = y_test.reshape((-1, 1))\n",
    "\n",
    "x_train.shape, x_test.shape, y_train.shape, y_test.shape"
   ]
  },
  {
   "cell_type": "code",
   "execution_count": 15,
   "metadata": {},
   "outputs": [
    {
     "data": {
      "text/plain": [
       "(torch.Size([9783, 7, 1]),\n",
       " torch.Size([1088, 7, 1]),\n",
       " torch.Size([9783, 1]),\n",
       " torch.Size([1088, 1]))"
      ]
     },
     "execution_count": 15,
     "metadata": {},
     "output_type": "execute_result"
    }
   ],
   "source": [
    "# convert to tensor\n",
    "\n",
    "x_train = torch.tensor(x_train).float()\n",
    "y_train = torch.tensor(y_train).float()\n",
    "\n",
    "x_test = torch.tensor(x_test).float()\n",
    "y_test = torch.tensor(y_test).float()\n",
    "\n",
    "x_train.shape, x_test.shape, y_train.shape, y_test.shape"
   ]
  },
  {
   "cell_type": "code",
   "execution_count": 18,
   "metadata": {},
   "outputs": [],
   "source": [
    "# create torch dataset object\n",
    "\n",
    "from torch.utils.data import Dataset\n",
    "\n",
    "class TimeSeriesData(Dataset):\n",
    "    \n",
    "    def __init__(self, x, y) -> None:\n",
    "        self.x = x\n",
    "        self.y = y\n",
    "        \n",
    "    def len(self):\n",
    "        return len(self.x)\n",
    "    \n",
    "    def getitem(self, i) -> tuple:\n",
    "        return self.x[i], self.y[i]"
   ]
  },
  {
   "cell_type": "code",
   "execution_count": 19,
   "metadata": {},
   "outputs": [],
   "source": [
    "train_dataset = TimeSeriesData(x_train, y_train)\n",
    "test_dataset = TimeSeriesData(x_test, y_test)"
   ]
  },
  {
   "cell_type": "code",
   "execution_count": null,
   "metadata": {},
   "outputs": [],
   "source": [
    "# Load data with DataLoader\n",
    "\n",
    "from torch.utils.data import DataLoader\n",
    "\n",
    "batchsize = 15\n",
    "train_loader = DataLoader(train_dataset, batch_size=batchsize, shuffle= True)\n",
    "test_loader = DataLoader(test_dataset, batch_size=batchsize, shuffle=True)"
   ]
  }
 ],
 "metadata": {
  "kernelspec": {
   "display_name": "StockPrice",
   "language": "python",
   "name": "python3"
  },
  "language_info": {
   "codemirror_mode": {
    "name": "ipython",
    "version": 3
   },
   "file_extension": ".py",
   "mimetype": "text/x-python",
   "name": "python",
   "nbconvert_exporter": "python",
   "pygments_lexer": "ipython3",
   "version": "3.10.13"
  }
 },
 "nbformat": 4,
 "nbformat_minor": 2
}
