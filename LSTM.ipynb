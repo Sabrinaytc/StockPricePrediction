{
 "cells": [
  {
   "cell_type": "code",
   "execution_count": 7,
   "metadata": {},
   "outputs": [],
   "source": [
    "import yfinance as yf\n",
    "import os\n",
    "import pandas as pd\n",
    "import numpy as np\n",
    "import matplotlib.pyplot as plt\n",
    "\n",
    "import torch\n",
    "import torch.nn as nn"
   ]
  },
  {
   "cell_type": "code",
   "execution_count": 2,
   "metadata": {},
   "outputs": [
    {
     "name": "stdout",
     "output_type": "stream",
     "text": [
      "['CSCO', 'UAL', 'TROW', 'ISRG', 'NVR', 'TPR', 'DVN', 'CE', 'MRO', 'BA', 'VRTX', 'GILD', 'NLSN', 'EQIX', 'TER', 'MDT', 'V', 'QRVO', 'A', 'FOX', 'FLT', 'MO', 'CTRA', 'SWKS', 'ENPH', 'MCHP', 'CDNS', 'MSCI', 'CHTR', 'EIX', 'KDP', 'BBY', 'WBA', 'LVS', 'HCA', 'AJG', 'DTE', 'C', 'T', 'CF', 'DISH', 'MGM', 'HUM', 'CBOE', 'CFG', 'APH', 'SYY', 'MSI', 'FCX', 'ADM', 'OGN', 'LH', 'PKI', 'LNT', 'BAC', 'LNC', 'PSX', 'GPN', 'PPG', 'TECH', 'IRM', 'IQV', 'ESS', 'WBD', 'HAL', 'STZ', 'DXC', 'PARA', 'ADI', 'F', 'ADBE', 'CPRT', 'TDG', 'TFX', 'ULTA', 'ARE', 'SYK', 'CB', 'TSN', 'GNRC', 'PEP', 'PEG', 'NOW', 'LLY', 'COST', 'REG', 'NWS', 'LOW', 'MDLZ', 'BKNG', 'ZBRA', 'FMC', 'XEL', 'AIZ', 'MET', 'FTV', 'DLR', 'XRAY', 'FAST', 'TJX', 'SNA', 'MPC', 'BR', 'D', 'MRK', 'STX', 'NOC', 'BXP', 'KHC', 'IPG', 'UNP', 'ALLE', 'ABBV', 'CDAY', 'ORCL', 'ECL', 'ETR', 'EBAY', 'SBUX', 'PENN', 'IR', 'AMT', 'INTU', 'DPZ', 'PAYC', 'DRE', 'CMA', 'PG', 'CAT', 'ODFL', 'MCD', 'MNST', 'AMZN', 'INTC', 'PNR', 'GLW', 'BDX', 'KMI', 'PWR', 'APTV', 'BBWI', 'DXCM', 'EXR', 'WELL', 'HOLX', 'EXPD', 'GM', 'TXN', 'VRSK', 'SJM', 'TMO', 'OXY', 'RL', 'CCI', 'MMM', 'MOS', 'FTNT', 'HSY', 'JNPR', 'DHI', 'ED', 'ES', 'ADSK', 'GL', 'IP', 'EXPE', 'KO', 'PCAR', 'WDC', 'LUMN', 'PYPL', 'NEE', 'UPS', 'ELV', 'EMR', 'MSFT', 'ANSS', 'CTAS', 'BIO', 'UDR', 'CTLT', 'WEC', 'AME', 'IT', 'DD', 'ACN', 'VRSN', 'EW', 'CMG', 'AWK', 'COO', 'SHW', 'HPQ', 'AMAT', 'CCL', 'MLM', 'AVY', 'AAP', 'ATVI', 'EVRG', 'EA', 'DE', 'SPG', 'AMD', 'KLAC', 'NDAQ', 'URI', 'WHR', 'RTX', 'NXPI', 'PNC', 'KMX', 'SEDG', 'WRK', 'MTCH', 'BIIB', 'NVDA', 'CHRW', 'ROP', 'IDXX', 'EXC', 'HES', 'HD', 'ALB', 'VLO', 'AON', 'ZTS', 'FDX', 'DG', 'TYL', 'HIG', 'CMS', 'CAG', 'INCY', 'SCHW', 'HSIC', 'AZO', 'AXP', 'HPE', 'DFS', 'SEE', 'HRL', 'SO', 'FRT', 'ZBH', 'FRC', 'CME', 'XOM', 'AMP', 'CVX', 'CMCSA', 'PNW', 'ICE', 'CTXS', 'BEN', 'UHS', 'BKR', 'EMN', 'SBAC', 'ROK', 'PTC', 'NRG', 'NSC', 'NKE', 'FIS', 'FANG', 'VTR', 'MAS', 'RF', 'ETSY', 'AMCR', 'TAP', 'MAR', 'XYL', 'CMI', 'MTD', 'BF-B', 'NLOK', 'KR', 'PLD', 'IBM', 'USB', 'BSX', 'LKQ', 'FBHS', 'LIN', 'ITW', 'TWTR', 'EOG', 'PVH', 'KMB', 'PEAK', 'SPGI', 'NEM', 'WFC', 'CTVA', 'EL', 'GS', 'GD', 'CNP', 'PM', 'RE', 'MCO', 'CLX', 'CAH', 'MPWR', 'DGX', 'AVB', 'DIS', 'CBRE', 'GE', 'HII', 'LDOS', 'ALL', 'ETN', 'ALGN', 'NFLX', 'SBNY', 'LEN', 'FITB', 'WST', 'GWW', 'NTRS', 'CVS', 'AOS', 'FE', 'ABC', 'JPM', 'ABT', 'OMC', 'COF', 'TSCO', 'PH', 'HST', 'JBHT', 'MRNA', 'TSLA', 'MOH', 'ATO', 'COP', 'DHR', 'CNC', 'MCK', 'TXT', 'MTB', 'FDS', 'VTRS', 'AKAM', 'ROL', 'RMD', 'WRB', 'GOOGL', 'BRO', 'ANET', 'PAYX', 'ALK', 'DRI', 'ILMN', 'META', 'AAL', 'MAA', 'MMC', 'FOXA', 'POOL', 'CZR', 'FFIV', 'VNO', 'CINF', 'VMC', 'MKTX', 'SRE', 'LHX', 'ORLY', 'IVZ', 'RCL', 'PXD', 'SNPS', 'GOOG', 'EPAM', 'SIVB', 'NDSN', 'YUM', 'LYV', 'PFE', 'AVGO', 'DUK', 'REGN', 'CL', 'VFC', 'VZ', 'JCI', 'AMGN', 'TEL', 'JKHY', 'ADP', 'ON', 'STT', 'RSG', 'IFF', 'CARR', 'TRMB', 'QCOM', 'LYB', 'GIS', 'PHM', 'ROST', 'LUV', 'LW', 'MS', 'CPB', 'OKE', 'BK', 'J', 'SYF', 'CHD', 'HWM', 'MHK', 'TFC', 'DAL', 'APA', 'K', 'AFL', 'CSX', 'NI', 'CPT', 'PFG', 'NCLH', 'ZION', 'RJF', 'HBAN', 'UNH', 'PRU', 'GPC', 'WTW', 'FISV', 'WMB', 'EQR', 'DVA', 'AIG', 'MA', 'HON', 'VICI', 'O', 'NWSA', 'TTWO', 'AES', 'SLB', 'TT', 'TGT', 'AAPL', 'MKC', 'OTIS', 'CEG', 'TDY', 'WY', 'APD', 'GRMN', 'AEE', 'HLT', 'DLTR', 'STE', 'HAS', 'TMUS', 'WMT', 'NTAP', 'KIM', 'BAX', 'LMT', 'ABMD', 'KEY', 'KEYS', 'BMY', 'PSA', 'WYNN', 'RHI', 'EFX', 'NUE', 'PKG', 'WAB', 'CTSH', 'SWK', 'CRL', 'MU', 'TRV', 'BRK-B', 'L', 'AEP', 'CI', 'DOW', 'CDW', 'BALL', 'JNJ', 'WM', 'DOV', 'CRM', 'PGR', 'WAT', 'IEX', 'BWA', 'LRCX', 'NWL', 'BLK', 'PPL']\n"
     ]
    }
   ],
   "source": [
    "# Get all the S&P500 tickers\n",
    "path = './Data/S&P500/'\n",
    "dir_path = [name[:-4] for name in os.listdir(path)]\n",
    "print(dir_path)"
   ]
  },
  {
   "cell_type": "code",
   "execution_count": 3,
   "metadata": {},
   "outputs": [
    {
     "name": "stdout",
     "output_type": "stream",
     "text": [
      "503\n"
     ]
    }
   ],
   "source": [
    "print(len(dir_path))"
   ]
  },
  {
   "cell_type": "code",
   "execution_count": 10,
   "metadata": {},
   "outputs": [
    {
     "name": "stdout",
     "output_type": "stream",
     "text": [
      "                           Date        Open        High         Low  \\\n",
      "0     1980-12-12 00:00:00-05:00    0.099319    0.099750    0.099319   \n",
      "1     1980-12-15 00:00:00-05:00    0.094569    0.094569    0.094137   \n",
      "2     1980-12-16 00:00:00-05:00    0.087659    0.087659    0.087228   \n",
      "3     1980-12-17 00:00:00-05:00    0.089387    0.089818    0.089387   \n",
      "4     1980-12-18 00:00:00-05:00    0.091978    0.092410    0.091978   \n",
      "...                         ...         ...         ...         ...   \n",
      "10872 2024-01-30 00:00:00-05:00  190.940002  191.800003  187.470001   \n",
      "10873 2024-01-31 00:00:00-05:00  187.039993  187.100006  184.350006   \n",
      "10874 2024-02-01 00:00:00-05:00  183.990005  186.949997  183.820007   \n",
      "10875 2024-02-02 00:00:00-05:00  179.860001  187.330002  179.250000   \n",
      "10876 2024-02-05 00:00:00-05:00  188.149994  189.250000  185.839996   \n",
      "\n",
      "            Close     Volume  Dividends  Stock Splits  \n",
      "0        0.099319  469033600        0.0           0.0  \n",
      "1        0.094137  175884800        0.0           0.0  \n",
      "2        0.087228  105728000        0.0           0.0  \n",
      "3        0.089387   86441600        0.0           0.0  \n",
      "4        0.091978   73449600        0.0           0.0  \n",
      "...           ...        ...        ...           ...  \n",
      "10872  188.039993   55859400        0.0           0.0  \n",
      "10873  184.399994   55467800        0.0           0.0  \n",
      "10874  186.860001   64885400        0.0           0.0  \n",
      "10875  185.850006  102518000        0.0           0.0  \n",
      "10876  187.679993   68862037        0.0           0.0  \n",
      "\n",
      "[10877 rows x 8 columns]\n"
     ]
    },
    {
     "name": "stderr",
     "output_type": "stream",
     "text": [
      "/Users/sabrinachiang/miniforge3/envs/StockPrice/lib/python3.10/site-packages/yfinance/utils.py:775: FutureWarning: The 'unit' keyword in TimedeltaIndex construction is deprecated and will be removed in a future version. Use pd.to_timedelta instead.\n",
      "  df.index += _pd.TimedeltaIndex(dst_error_hours, 'h')\n"
     ]
    }
   ],
   "source": [
    "# Get the history price MAX\n",
    "GetInfo = yf.Ticker(\"AAPL\")\n",
    "\n",
    "data = GetInfo.history(period=\"max\").reset_index()\n",
    "\n",
    "data"
   ]
  },
  {
   "cell_type": "code",
   "execution_count": 12,
   "metadata": {},
   "outputs": [
    {
     "data": {
      "text/html": [
       "<div>\n",
       "<style scoped>\n",
       "    .dataframe tbody tr th:only-of-type {\n",
       "        vertical-align: middle;\n",
       "    }\n",
       "\n",
       "    .dataframe tbody tr th {\n",
       "        vertical-align: top;\n",
       "    }\n",
       "\n",
       "    .dataframe thead th {\n",
       "        text-align: right;\n",
       "    }\n",
       "</style>\n",
       "<table border=\"1\" class=\"dataframe\">\n",
       "  <thead>\n",
       "    <tr style=\"text-align: right;\">\n",
       "      <th></th>\n",
       "      <th>Date</th>\n",
       "      <th>Close</th>\n",
       "    </tr>\n",
       "  </thead>\n",
       "  <tbody>\n",
       "    <tr>\n",
       "      <th>0</th>\n",
       "      <td>1980-12-12 00:00:00-05:00</td>\n",
       "      <td>0.099319</td>\n",
       "    </tr>\n",
       "    <tr>\n",
       "      <th>1</th>\n",
       "      <td>1980-12-15 00:00:00-05:00</td>\n",
       "      <td>0.094137</td>\n",
       "    </tr>\n",
       "    <tr>\n",
       "      <th>2</th>\n",
       "      <td>1980-12-16 00:00:00-05:00</td>\n",
       "      <td>0.087228</td>\n",
       "    </tr>\n",
       "    <tr>\n",
       "      <th>3</th>\n",
       "      <td>1980-12-17 00:00:00-05:00</td>\n",
       "      <td>0.089387</td>\n",
       "    </tr>\n",
       "    <tr>\n",
       "      <th>4</th>\n",
       "      <td>1980-12-18 00:00:00-05:00</td>\n",
       "      <td>0.091978</td>\n",
       "    </tr>\n",
       "    <tr>\n",
       "      <th>...</th>\n",
       "      <td>...</td>\n",
       "      <td>...</td>\n",
       "    </tr>\n",
       "    <tr>\n",
       "      <th>10872</th>\n",
       "      <td>2024-01-30 00:00:00-05:00</td>\n",
       "      <td>188.039993</td>\n",
       "    </tr>\n",
       "    <tr>\n",
       "      <th>10873</th>\n",
       "      <td>2024-01-31 00:00:00-05:00</td>\n",
       "      <td>184.399994</td>\n",
       "    </tr>\n",
       "    <tr>\n",
       "      <th>10874</th>\n",
       "      <td>2024-02-01 00:00:00-05:00</td>\n",
       "      <td>186.860001</td>\n",
       "    </tr>\n",
       "    <tr>\n",
       "      <th>10875</th>\n",
       "      <td>2024-02-02 00:00:00-05:00</td>\n",
       "      <td>185.850006</td>\n",
       "    </tr>\n",
       "    <tr>\n",
       "      <th>10876</th>\n",
       "      <td>2024-02-05 00:00:00-05:00</td>\n",
       "      <td>187.679993</td>\n",
       "    </tr>\n",
       "  </tbody>\n",
       "</table>\n",
       "<p>10877 rows × 2 columns</p>\n",
       "</div>"
      ],
      "text/plain": [
       "                           Date       Close\n",
       "0     1980-12-12 00:00:00-05:00    0.099319\n",
       "1     1980-12-15 00:00:00-05:00    0.094137\n",
       "2     1980-12-16 00:00:00-05:00    0.087228\n",
       "3     1980-12-17 00:00:00-05:00    0.089387\n",
       "4     1980-12-18 00:00:00-05:00    0.091978\n",
       "...                         ...         ...\n",
       "10872 2024-01-30 00:00:00-05:00  188.039993\n",
       "10873 2024-01-31 00:00:00-05:00  184.399994\n",
       "10874 2024-02-01 00:00:00-05:00  186.860001\n",
       "10875 2024-02-02 00:00:00-05:00  185.850006\n",
       "10876 2024-02-05 00:00:00-05:00  187.679993\n",
       "\n",
       "[10877 rows x 2 columns]"
      ]
     },
     "execution_count": 12,
     "metadata": {},
     "output_type": "execute_result"
    }
   ],
   "source": [
    "data = data[['Date', 'Close']]\n",
    "data"
   ]
  },
  {
   "cell_type": "code",
   "execution_count": 13,
   "metadata": {},
   "outputs": [
    {
     "data": {
      "text/plain": [
       "'cpu'"
      ]
     },
     "execution_count": 13,
     "metadata": {},
     "output_type": "execute_result"
    }
   ],
   "source": [
    "device = 'cuda:0' if torch.cuda.is_available() else 'cpu'\n",
    "device"
   ]
  },
  {
   "cell_type": "code",
   "execution_count": 20,
   "metadata": {},
   "outputs": [],
   "source": [
    "# Generate the \n",
    "from copy import deepcopy as dc\n",
    "\n",
    "def prepare_data(df, nsteps):\n",
    "    '''\n",
    "    for each day, we append n previous days \n",
    "    '''\n",
    "    df = dc(df)\n",
    "    df.set_index('Date', inplace = True)\n",
    "    \n",
    "    for i in range(1, nsteps):\n",
    "        df[f'Close(t-{i})D'] = df['Close'].shift(i)\n",
    "        \n",
    "    df.dropna(inplace= True)\n",
    "    \n",
    "    return df"
   ]
  },
  {
   "cell_type": "code",
   "execution_count": 21,
   "metadata": {},
   "outputs": [
    {
     "data": {
      "text/html": [
       "<div>\n",
       "<style scoped>\n",
       "    .dataframe tbody tr th:only-of-type {\n",
       "        vertical-align: middle;\n",
       "    }\n",
       "\n",
       "    .dataframe tbody tr th {\n",
       "        vertical-align: top;\n",
       "    }\n",
       "\n",
       "    .dataframe thead th {\n",
       "        text-align: right;\n",
       "    }\n",
       "</style>\n",
       "<table border=\"1\" class=\"dataframe\">\n",
       "  <thead>\n",
       "    <tr style=\"text-align: right;\">\n",
       "      <th></th>\n",
       "      <th>Close</th>\n",
       "      <th>Close(t-1)D</th>\n",
       "      <th>Close(t-2)D</th>\n",
       "      <th>Close(t-3)D</th>\n",
       "      <th>Close(t-4)D</th>\n",
       "      <th>Close(t-5)D</th>\n",
       "      <th>Close(t-6)D</th>\n",
       "    </tr>\n",
       "    <tr>\n",
       "      <th>Date</th>\n",
       "      <th></th>\n",
       "      <th></th>\n",
       "      <th></th>\n",
       "      <th></th>\n",
       "      <th></th>\n",
       "      <th></th>\n",
       "      <th></th>\n",
       "    </tr>\n",
       "  </thead>\n",
       "  <tbody>\n",
       "    <tr>\n",
       "      <th>1980-12-22 00:00:00-05:00</th>\n",
       "      <td>0.102341</td>\n",
       "      <td>0.097591</td>\n",
       "      <td>0.091978</td>\n",
       "      <td>0.089387</td>\n",
       "      <td>0.087228</td>\n",
       "      <td>0.094137</td>\n",
       "      <td>0.099319</td>\n",
       "    </tr>\n",
       "    <tr>\n",
       "      <th>1980-12-23 00:00:00-05:00</th>\n",
       "      <td>0.106660</td>\n",
       "      <td>0.102341</td>\n",
       "      <td>0.097591</td>\n",
       "      <td>0.091978</td>\n",
       "      <td>0.089387</td>\n",
       "      <td>0.087228</td>\n",
       "      <td>0.094137</td>\n",
       "    </tr>\n",
       "    <tr>\n",
       "      <th>1980-12-24 00:00:00-05:00</th>\n",
       "      <td>0.112273</td>\n",
       "      <td>0.106660</td>\n",
       "      <td>0.102341</td>\n",
       "      <td>0.097591</td>\n",
       "      <td>0.091978</td>\n",
       "      <td>0.089387</td>\n",
       "      <td>0.087228</td>\n",
       "    </tr>\n",
       "    <tr>\n",
       "      <th>1980-12-26 00:00:00-05:00</th>\n",
       "      <td>0.122637</td>\n",
       "      <td>0.112273</td>\n",
       "      <td>0.106660</td>\n",
       "      <td>0.102341</td>\n",
       "      <td>0.097591</td>\n",
       "      <td>0.091978</td>\n",
       "      <td>0.089387</td>\n",
       "    </tr>\n",
       "    <tr>\n",
       "      <th>1980-12-29 00:00:00-05:00</th>\n",
       "      <td>0.124364</td>\n",
       "      <td>0.122637</td>\n",
       "      <td>0.112273</td>\n",
       "      <td>0.106660</td>\n",
       "      <td>0.102341</td>\n",
       "      <td>0.097591</td>\n",
       "      <td>0.091978</td>\n",
       "    </tr>\n",
       "    <tr>\n",
       "      <th>...</th>\n",
       "      <td>...</td>\n",
       "      <td>...</td>\n",
       "      <td>...</td>\n",
       "      <td>...</td>\n",
       "      <td>...</td>\n",
       "      <td>...</td>\n",
       "      <td>...</td>\n",
       "    </tr>\n",
       "    <tr>\n",
       "      <th>2024-01-30 00:00:00-05:00</th>\n",
       "      <td>188.039993</td>\n",
       "      <td>191.729996</td>\n",
       "      <td>192.419998</td>\n",
       "      <td>194.169998</td>\n",
       "      <td>194.500000</td>\n",
       "      <td>195.179993</td>\n",
       "      <td>193.889999</td>\n",
       "    </tr>\n",
       "    <tr>\n",
       "      <th>2024-01-31 00:00:00-05:00</th>\n",
       "      <td>184.399994</td>\n",
       "      <td>188.039993</td>\n",
       "      <td>191.729996</td>\n",
       "      <td>192.419998</td>\n",
       "      <td>194.169998</td>\n",
       "      <td>194.500000</td>\n",
       "      <td>195.179993</td>\n",
       "    </tr>\n",
       "    <tr>\n",
       "      <th>2024-02-01 00:00:00-05:00</th>\n",
       "      <td>186.860001</td>\n",
       "      <td>184.399994</td>\n",
       "      <td>188.039993</td>\n",
       "      <td>191.729996</td>\n",
       "      <td>192.419998</td>\n",
       "      <td>194.169998</td>\n",
       "      <td>194.500000</td>\n",
       "    </tr>\n",
       "    <tr>\n",
       "      <th>2024-02-02 00:00:00-05:00</th>\n",
       "      <td>185.850006</td>\n",
       "      <td>186.860001</td>\n",
       "      <td>184.399994</td>\n",
       "      <td>188.039993</td>\n",
       "      <td>191.729996</td>\n",
       "      <td>192.419998</td>\n",
       "      <td>194.169998</td>\n",
       "    </tr>\n",
       "    <tr>\n",
       "      <th>2024-02-05 00:00:00-05:00</th>\n",
       "      <td>187.679993</td>\n",
       "      <td>185.850006</td>\n",
       "      <td>186.860001</td>\n",
       "      <td>184.399994</td>\n",
       "      <td>188.039993</td>\n",
       "      <td>191.729996</td>\n",
       "      <td>192.419998</td>\n",
       "    </tr>\n",
       "  </tbody>\n",
       "</table>\n",
       "<p>10871 rows × 7 columns</p>\n",
       "</div>"
      ],
      "text/plain": [
       "                                Close  Close(t-1)D  Close(t-2)D  Close(t-3)D  \\\n",
       "Date                                                                           \n",
       "1980-12-22 00:00:00-05:00    0.102341     0.097591     0.091978     0.089387   \n",
       "1980-12-23 00:00:00-05:00    0.106660     0.102341     0.097591     0.091978   \n",
       "1980-12-24 00:00:00-05:00    0.112273     0.106660     0.102341     0.097591   \n",
       "1980-12-26 00:00:00-05:00    0.122637     0.112273     0.106660     0.102341   \n",
       "1980-12-29 00:00:00-05:00    0.124364     0.122637     0.112273     0.106660   \n",
       "...                               ...          ...          ...          ...   \n",
       "2024-01-30 00:00:00-05:00  188.039993   191.729996   192.419998   194.169998   \n",
       "2024-01-31 00:00:00-05:00  184.399994   188.039993   191.729996   192.419998   \n",
       "2024-02-01 00:00:00-05:00  186.860001   184.399994   188.039993   191.729996   \n",
       "2024-02-02 00:00:00-05:00  185.850006   186.860001   184.399994   188.039993   \n",
       "2024-02-05 00:00:00-05:00  187.679993   185.850006   186.860001   184.399994   \n",
       "\n",
       "                           Close(t-4)D  Close(t-5)D  Close(t-6)D  \n",
       "Date                                                              \n",
       "1980-12-22 00:00:00-05:00     0.087228     0.094137     0.099319  \n",
       "1980-12-23 00:00:00-05:00     0.089387     0.087228     0.094137  \n",
       "1980-12-24 00:00:00-05:00     0.091978     0.089387     0.087228  \n",
       "1980-12-26 00:00:00-05:00     0.097591     0.091978     0.089387  \n",
       "1980-12-29 00:00:00-05:00     0.102341     0.097591     0.091978  \n",
       "...                                ...          ...          ...  \n",
       "2024-01-30 00:00:00-05:00   194.500000   195.179993   193.889999  \n",
       "2024-01-31 00:00:00-05:00   194.169998   194.500000   195.179993  \n",
       "2024-02-01 00:00:00-05:00   192.419998   194.169998   194.500000  \n",
       "2024-02-02 00:00:00-05:00   191.729996   192.419998   194.169998  \n",
       "2024-02-05 00:00:00-05:00   188.039993   191.729996   192.419998  \n",
       "\n",
       "[10871 rows x 7 columns]"
      ]
     },
     "execution_count": 21,
     "metadata": {},
     "output_type": "execute_result"
    }
   ],
   "source": [
    "lookback = 7\n",
    "shift_df = prepare_data(data, lookback)\n",
    "\n",
    "shift_df"
   ]
  },
  {
   "cell_type": "code",
   "execution_count": 22,
   "metadata": {},
   "outputs": [
    {
     "data": {
      "text/plain": [
       "array([[1.02341257e-01, 9.75914821e-02, 9.19781625e-02, ...,\n",
       "        8.72276649e-02, 9.41371247e-02, 9.93186459e-02],\n",
       "       [1.06659941e-01, 1.02341257e-01, 9.75914821e-02, ...,\n",
       "        8.93866271e-02, 8.72276649e-02, 9.41371247e-02],\n",
       "       [1.12273216e-01, 1.06659941e-01, 1.02341257e-01, ...,\n",
       "        9.19781625e-02, 8.93866271e-02, 8.72276649e-02],\n",
       "       ...,\n",
       "       [1.86860001e+02, 1.84399994e+02, 1.88039993e+02, ...,\n",
       "        1.92419998e+02, 1.94169998e+02, 1.94500000e+02],\n",
       "       [1.85850006e+02, 1.86860001e+02, 1.84399994e+02, ...,\n",
       "        1.91729996e+02, 1.92419998e+02, 1.94169998e+02],\n",
       "       [1.87679993e+02, 1.85850006e+02, 1.86860001e+02, ...,\n",
       "        1.88039993e+02, 1.91729996e+02, 1.92419998e+02]])"
      ]
     },
     "execution_count": 22,
     "metadata": {},
     "output_type": "execute_result"
    }
   ],
   "source": [
    "shift_numpy = shift_df.to_numpy()\n",
    "shift_numpy"
   ]
  },
  {
   "cell_type": "code",
   "execution_count": 23,
   "metadata": {},
   "outputs": [
    {
     "data": {
      "text/plain": [
       "array([[-0.99935033, -0.99939829, -0.99945497, ..., -0.99950293,\n",
       "        -0.99943317, -0.99938085],\n",
       "       [-0.99930672, -0.99935033, -0.99939829, ..., -0.99948113,\n",
       "        -0.99950293, -0.99943317],\n",
       "       [-0.99925004, -0.99930672, -0.99935033, ..., -0.99945497,\n",
       "        -0.99948113, -0.99950293],\n",
       "       ...,\n",
       "       [ 0.88640494,  0.86156542,  0.89831973, ...,  0.94254612,\n",
       "         0.96021646,  0.9635486 ],\n",
       "       [ 0.87620669,  0.88640494,  0.86156542, ...,  0.93557893,\n",
       "         0.94254612,  0.96021646],\n",
       "       [ 0.89468468,  0.87620669,  0.88640494, ...,  0.89831973,\n",
       "         0.93557893,  0.94254612]])"
      ]
     },
     "execution_count": 23,
     "metadata": {},
     "output_type": "execute_result"
    }
   ],
   "source": [
    "# Need to scale our data first\n",
    "from sklearn.preprocessing import MinMaxScaler\n",
    "\n",
    "scaler = MinMaxScaler(feature_range=(-1,1))\n",
    "shift_numpy = scaler.fit_transform(shift_numpy)\n",
    "\n",
    "shift_numpy"
   ]
  },
  {
   "cell_type": "code",
   "execution_count": 25,
   "metadata": {},
   "outputs": [
    {
     "data": {
      "text/plain": [
       "((10871, 6), (10871,))"
      ]
     },
     "execution_count": 25,
     "metadata": {},
     "output_type": "execute_result"
    }
   ],
   "source": [
    "x = shift_numpy[:, 1:]\n",
    "y = shift_numpy[:, 0]\n",
    "\n",
    "x.shape, y.shape"
   ]
  },
  {
   "cell_type": "code",
   "execution_count": 26,
   "metadata": {},
   "outputs": [
    {
     "data": {
      "text/plain": [
       "array([[-0.99938085, -0.99943317, -0.99950293, -0.99948113, -0.99945497,\n",
       "        -0.99939829],\n",
       "       [-0.99943317, -0.99950293, -0.99948113, -0.99945497, -0.99939829,\n",
       "        -0.99935033],\n",
       "       [-0.99950293, -0.99948113, -0.99945497, -0.99939829, -0.99935033,\n",
       "        -0.99930672],\n",
       "       ...,\n",
       "       [ 0.9635486 ,  0.96021646,  0.94254612,  0.93557893,  0.89831973,\n",
       "         0.86156542],\n",
       "       [ 0.96021646,  0.94254612,  0.93557893,  0.89831973,  0.86156542,\n",
       "         0.88640494],\n",
       "       [ 0.94254612,  0.93557893,  0.89831973,  0.86156542,  0.88640494,\n",
       "         0.87620669]])"
      ]
     },
     "execution_count": 26,
     "metadata": {},
     "output_type": "execute_result"
    }
   ],
   "source": [
    "# reverses the x --> the array will be D-7, D-6, D-5, D-4, D-3, D-2, D-1\n",
    "x = dc(np.flip(x, axis=1))\n",
    "x"
   ]
  },
  {
   "cell_type": "code",
   "execution_count": null,
   "metadata": {},
   "outputs": [],
   "source": []
  }
 ],
 "metadata": {
  "kernelspec": {
   "display_name": "StockPrice",
   "language": "python",
   "name": "python3"
  },
  "language_info": {
   "codemirror_mode": {
    "name": "ipython",
    "version": 3
   },
   "file_extension": ".py",
   "mimetype": "text/x-python",
   "name": "python",
   "nbconvert_exporter": "python",
   "pygments_lexer": "ipython3",
   "version": "3.10.13"
  }
 },
 "nbformat": 4,
 "nbformat_minor": 2
}
